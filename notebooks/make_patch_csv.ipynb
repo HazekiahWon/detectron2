{
 "cells": [
  {
   "cell_type": "code",
   "execution_count": 1,
   "metadata": {},
   "outputs": [],
   "source": [
    "import pandas as pd\n",
    "import os\n",
    "import os.path as osp"
   ]
  },
  {
   "cell_type": "code",
   "execution_count": 2,
   "metadata": {},
   "outputs": [],
   "source": [
    "spath = osp.join('anno','particles.csv')\n",
    "tpath = osp.join('anno', 'patches.csv')\n",
    "usecols = ['_rlnCoordinateX', '_rlnCoordinateY', '_rlnMicrographName']\n",
    "rstride, cstride = 371 * 4, 101 * 19# 7420,7676\n",
    "max_nr,max_nc = 7420 // rstride, 7676 // cstride\n",
    "radius = 100"
   ]
  },
  {
   "cell_type": "code",
   "execution_count": null,
   "metadata": {},
   "outputs": [],
   "source": []
  }
 ],
 "metadata": {
  "kernelspec": {
   "display_name": "Python 3",
   "language": "python",
   "name": "python3"
  },
  "language_info": {
   "codemirror_mode": {
    "name": "ipython",
    "version": 3
   },
   "file_extension": ".py",
   "mimetype": "text/x-python",
   "name": "python",
   "nbconvert_exporter": "python",
   "pygments_lexer": "ipython3",
   "version": "3.6.9"
  }
 },
 "nbformat": 4,
 "nbformat_minor": 2
}
